{
  "nbformat": 4,
  "nbformat_minor": 0,
  "metadata": {
    "colab": {
      "provenance": []
    },
    "kernelspec": {
      "name": "python3",
      "display_name": "Python 3"
    },
    "language_info": {
      "name": "python"
    }
  },
  "cells": [
    {
      "cell_type": "code",
      "source": [
        "!pip install python-constraint"
      ],
      "metadata": {
        "colab": {
          "base_uri": "https://localhost:8080/"
        },
        "collapsed": true,
        "id": "w8rOlv0uLyM1",
        "outputId": "a7ffc73d-8e87-4486-af4e-054895564d4f"
      },
      "execution_count": 9,
      "outputs": [
        {
          "output_type": "stream",
          "name": "stdout",
          "text": [
            "Collecting python-constraint\n",
            "  Downloading python-constraint-1.4.0.tar.bz2 (18 kB)\n",
            "  Preparing metadata (setup.py) ... \u001b[?25l\u001b[?25hdone\n",
            "Building wheels for collected packages: python-constraint\n",
            "  Building wheel for python-constraint (setup.py) ... \u001b[?25l\u001b[?25hdone\n",
            "  Created wheel for python-constraint: filename=python_constraint-1.4.0-py2.py3-none-any.whl size=24058 sha256=561ed218ed9d34be1dfcd46f013a1d6b43c5cbb591f778c61c1b7a9c1e0ad3d6\n",
            "  Stored in directory: /root/.cache/pip/wheels/2e/f2/2b/cb08b5fe129e4f69b7033061f256e5c551b0aa1160c2872aee\n",
            "Successfully built python-constraint\n",
            "Installing collected packages: python-constraint\n",
            "Successfully installed python-constraint-1.4.0\n"
          ]
        }
      ]
    },
    {
      "cell_type": "code",
      "execution_count": 15,
      "metadata": {
        "colab": {
          "base_uri": "https://localhost:8080/"
        },
        "id": "t9Rw4-u7Luv6",
        "outputId": "f195b7ab-a94e-458c-c267-6a21da02e55f"
      },
      "outputs": [
        {
          "output_type": "stream",
          "name": "stdout",
          "text": [
            "Itemsets frecuentes: {frozenset({'leche'}): 5, frozenset({'mantequilla'}): 4, frozenset({'pan'}): 6, frozenset({'leche', 'mantequilla'}): 3, frozenset({'leche', 'pan'}): 4, frozenset({'mantequilla', 'pan'}): 3, frozenset({'leche', 'mantequilla', 'pan'}): 2}\n",
            "Reglas de asociación:\n",
            "{'leche'} -> {'mantequilla'} (confianza: 0.60)\n",
            "{'mantequilla'} -> {'leche'} (confianza: 0.75)\n",
            "{'leche'} -> {'pan'} (confianza: 0.80)\n",
            "{'pan'} -> {'leche'} (confianza: 0.67)\n",
            "{'mantequilla'} -> {'pan'} (confianza: 0.75)\n",
            "{'leche', 'mantequilla'} -> {'pan'} (confianza: 0.67)\n",
            "{'mantequilla', 'pan'} -> {'leche'} (confianza: 0.67)\n"
          ]
        }
      ],
      "source": [
        "from constraint import Problem\n",
        "from itertools import combinations\n",
        "\n",
        "\n",
        "# Función para generar todos los subconjuntos posibles\n",
        "def get_subsets(transactions, min_support):\n",
        "    itemsets = {}\n",
        "    for transaction in transactions:\n",
        "        for i in range(1, len(transaction) + 1):\n",
        "            for subset in combinations(transaction, i):\n",
        "                subset = frozenset(subset)\n",
        "                if subset in itemsets:\n",
        "                    itemsets[subset] += 1\n",
        "                else:\n",
        "                    itemsets[subset] = 1\n",
        "    # Filtrar por soporte mínimo\n",
        "    frequent_itemsets = {k: v for k, v in itemsets.items() if v >= min_support}\n",
        "    return frequent_itemsets\n",
        "\n",
        "# Función para buscar reglas de asociación\n",
        "def get_association_rules(frequent_itemsets, min_confidence, transactions):\n",
        "    rules = []\n",
        "    for itemset in frequent_itemsets:\n",
        "        if len(itemset) > 1:\n",
        "            for antecedent in combinations(itemset, len(itemset) - 1):\n",
        "                antecedent = frozenset(antecedent)\n",
        "                consequent = itemset - antecedent\n",
        "                antecedent_support = sum(1 for transaction in transactions if antecedent <= transaction)\n",
        "                confidence = frequent_itemsets[itemset] / antecedent_support\n",
        "                if confidence >= min_confidence:\n",
        "                    rules.append((antecedent, consequent, confidence))\n",
        "    return rules\n",
        "\n",
        "# Función para leer las transacciones\n",
        "def read_transactions(filename):\n",
        "    with open(filename, 'r') as file:\n",
        "        transactions = [line.strip().split(',') for line in file]\n",
        "    return [frozenset(transaction) for transaction in transactions]\n",
        "\n",
        "# Ejemplo de uso\n",
        "if __name__ == \"__main__\":\n",
        "    transactions = read_transactions('transactions.txt')\n",
        "    min_support = 2\n",
        "    min_confidence = 0.6\n",
        "\n",
        "    frequent_itemsets = get_subsets(transactions, min_support)\n",
        "    print(\"Itemsets frecuentes:\", frequent_itemsets)\n",
        "\n",
        "    association_rules = get_association_rules(frequent_itemsets, min_confidence, transactions)\n",
        "    print(\"Reglas de asociación:\")\n",
        "    for rule in association_rules:\n",
        "        print(f\"{set(rule[0])} -> {set(rule[1])} (confianza: {rule[2]:.2f})\")"
      ]
    }
  ]
}