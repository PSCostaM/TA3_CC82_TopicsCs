{
  "nbformat": 4,
  "nbformat_minor": 0,
  "metadata": {
    "colab": {
      "provenance": []
    },
    "kernelspec": {
      "name": "python3",
      "display_name": "Python 3"
    },
    "language_info": {
      "name": "python"
    }
  },
  "cells": [
    {
      "cell_type": "code",
      "source": [
        "!pip install python-constraint"
      ],
      "metadata": {
        "colab": {
          "base_uri": "https://localhost:8080/"
        },
        "collapsed": true,
        "id": "w8rOlv0uLyM1",
        "outputId": "e31cd3b1-ffcd-4e77-840d-ce0563f67836"
      },
      "execution_count": 16,
      "outputs": [
        {
          "output_type": "stream",
          "name": "stdout",
          "text": [
            "Requirement already satisfied: python-constraint in /usr/local/lib/python3.10/dist-packages (1.4.0)\n"
          ]
        }
      ]
    },
    {
      "cell_type": "code",
      "execution_count": 17,
      "metadata": {
        "colab": {
          "base_uri": "https://localhost:8080/"
        },
        "id": "t9Rw4-u7Luv6",
        "outputId": "9df3a86e-1603-4e24-f417-eb4d6b6ed2bc"
      },
      "outputs": [
        {
          "output_type": "stream",
          "name": "stdout",
          "text": [
            "Itemsets frecuentes: {frozenset({'leche'}): 5, frozenset({'mantequilla'}): 4, frozenset({'pan'}): 6, frozenset({'leche', 'mantequilla'}): 3, frozenset({'leche', 'pan'}): 4, frozenset({'mantequilla', 'pan'}): 3, frozenset({'leche', 'mantequilla', 'pan'}): 2}\n",
            "Reglas de asociación:\n",
            "{'leche'} -> {'mantequilla'} (confianza: 0.60)\n",
            "{'mantequilla'} -> {'leche'} (confianza: 0.75)\n",
            "{'leche'} -> {'pan'} (confianza: 0.80)\n",
            "{'pan'} -> {'leche'} (confianza: 0.67)\n",
            "{'mantequilla'} -> {'pan'} (confianza: 0.75)\n",
            "{'leche', 'mantequilla'} -> {'pan'} (confianza: 0.67)\n",
            "{'mantequilla', 'pan'} -> {'leche'} (confianza: 0.67)\n"
          ]
        }
      ],
      "source": [
        "from constraint import Problem\n",
        "from itertools import combinations\n",
        "import requests\n",
        "\n",
        "def get_subsets(transactions, min_support):\n",
        "    itemsets = {}\n",
        "    for transaction in transactions:\n",
        "        for i in range(1, len(transaction) + 1):\n",
        "            for subset in combinations(transaction, i):\n",
        "                subset = frozenset(subset)\n",
        "                if subset in itemsets:\n",
        "                    itemsets[subset] += 1\n",
        "                else:\n",
        "                    itemsets[subset] = 1\n",
        "    frequent_itemsets = {k: v for k, v in itemsets.items() if v >= min_support}\n",
        "    return frequent_itemsets\n",
        "\n",
        "# association rule\n",
        "def get_association_rules(frequent_itemsets, min_confidence, transactions):\n",
        "    rules = []\n",
        "    for itemset in frequent_itemsets:\n",
        "        if len(itemset) > 1:\n",
        "            for antecedent in combinations(itemset, len(itemset) - 1):\n",
        "                antecedent = frozenset(antecedent)\n",
        "                consequent = itemset - antecedent\n",
        "                antecedent_support = sum(1 for transaction in transactions if antecedent <= transaction)\n",
        "                confidence = frequent_itemsets[itemset] / antecedent_support\n",
        "                if confidence >= min_confidence:\n",
        "                    rules.append((antecedent, consequent, confidence))\n",
        "    return rules\n",
        "\n",
        "\n",
        "def read_transactions_from_url(url):\n",
        "    response = requests.get(url)\n",
        "    response.raise_for_status()\n",
        "    lines = response.text.strip().split('\\n')\n",
        "    transactions = [line.strip().split(',') for line in lines]\n",
        "    return [frozenset(transaction) for transaction in transactions]\n",
        "\n",
        "\n",
        "if __name__ == \"__main__\":\n",
        "    url = 'https://raw.githubusercontent.com/PSCostaM/TA3_CC82_TopicsCs/master/transactions.txt'\n",
        "    transactions = read_transactions_from_url(url)\n",
        "    min_support = 2\n",
        "    min_confidence = 0.6\n",
        "\n",
        "    frequent_itemsets = get_subsets(transactions, min_support)\n",
        "    print(\"Itemsets frecuentes:\", frequent_itemsets)\n",
        "\n",
        "    association_rules = get_association_rules(frequent_itemsets, min_confidence, transactions)\n",
        "    print(\"Reglas de asociación:\")\n",
        "    for rule in association_rules:\n",
        "        print(f\"{set(rule[0])} -> {set(rule[1])} (confianza: {rule[2]:.2f})\")\n"
      ]
    }
  ]
}